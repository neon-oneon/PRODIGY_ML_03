{
 "cells": [
  {
   "cell_type": "markdown",
   "metadata": {},
   "source": [
    "SVM: Support Vector Machine\n",
    "1. Import libraries necessary.\n",
    "2. Import the dataset. \n",
    "3. Write it into binary files. \n",
    "4. Read the Binary file. \n",
    "5. Label the datasets. \n",
    "6. Split the dataset into training and testing. \n",
    "7. Train the dataset. \n",
    "8. Dump it in binary file. \n",
    "9. Load from binary file. \n",
    "10. Predict. \n"
   ]
  },
  {
   "cell_type": "markdown",
   "metadata": {},
   "source": [
    "Importing necessary libraries"
   ]
  },
  {
   "cell_type": "code",
   "execution_count": null,
   "metadata": {},
   "outputs": [],
   "source": [
    "import os #for path\n",
    "import numpy as np # to manipulate the images. \n",
    "import cv2 \n",
    "import matplotlib.pyplot as plt #to plot the image to facilitate prediction\n",
    "import pickle #binary file operations\n",
    "import random #for shuffling\n",
    "from sklearn.model_selection import train_test_split as tsplit #to split dataset into training and testing\n",
    "from sklearn.svm import SVC #SVM training"
   ]
  },
  {
   "cell_type": "markdown",
   "metadata": {},
   "source": [
    "Getting the datasets"
   ]
  },
  {
   "cell_type": "code",
   "execution_count": null,
   "metadata": {},
   "outputs": [],
   "source": [
    "categories = ['cat','dog']\n",
    "dir = 'train'\n",
    "data = []\n",
    "for c in categories:\n",
    "    path = os.path.join(dir,c)\n",
    "    label = categories.index(c)\n",
    "    for img in os.listdir(path):\n",
    "        imgpath = os.path.join(path,img)\n",
    "        pet = cv2.imread(imgpath,0)\n",
    "        try:\n",
    "            pet = cv2.resize(pet,(50,50))\n",
    "            image = np.array(pet).flatten()\n",
    "            data.append([image,label])\n",
    "        except Exception as e:\n",
    "            pass\n",
    "print(len(data))\n"
   ]
  },
  {
   "cell_type": "markdown",
   "metadata": {},
   "source": [
    "Dumping to binary file and loading from binary file."
   ]
  },
  {
   "cell_type": "code",
   "execution_count": null,
   "metadata": {},
   "outputs": [],
   "source": [
    "pickin = open('data1.pickle','wb')\n",
    "pickle.dump(data,pickin)\n",
    "pickin.close()"
   ]
  },
  {
   "cell_type": "code",
   "execution_count": null,
   "metadata": {},
   "outputs": [],
   "source": [
    "pickin = open('data1.pickle','rb')\n",
    "data = pickle.load(pickin)\n",
    "pickin.close()"
   ]
  },
  {
   "cell_type": "markdown",
   "metadata": {},
   "source": [
    "Shuffling the datset and getting the features and labels. "
   ]
  },
  {
   "cell_type": "code",
   "execution_count": null,
   "metadata": {},
   "outputs": [],
   "source": [
    "random.shuffle(data)\n",
    "features = []\n",
    "labels=[]\n",
    "for feature, label in data:\n",
    "    features.append(feature)\n",
    "    labels.append(label)\n",
    "    "
   ]
  },
  {
   "cell_type": "markdown",
   "metadata": {},
   "source": [
    "Splitting the dataset at 3:4 for trainging and testing. "
   ]
  },
  {
   "cell_type": "code",
   "execution_count": null,
   "metadata": {},
   "outputs": [],
   "source": [
    "xtrain, xtest, ytrain, ytest = tsplit(features, labels, test_size=0.25)"
   ]
  },
  {
   "cell_type": "markdown",
   "metadata": {},
   "source": [
    "Training the model. "
   ]
  },
  {
   "cell_type": "code",
   "execution_count": null,
   "metadata": {},
   "outputs": [],
   "source": [
    "model = SVC(C=1,kernel='poly',gamma='auto')\n",
    "model.fit(xtrain,ytrain)\n"
   ]
  },
  {
   "cell_type": "markdown",
   "metadata": {},
   "source": [
    "Dumping to binary file and loading from binary file. "
   ]
  },
  {
   "cell_type": "code",
   "execution_count": null,
   "metadata": {},
   "outputs": [],
   "source": [
    "pick = open('model.sav', 'wb')\n",
    "pickle.dump(model,pick)\n",
    "pick.close()"
   ]
  },
  {
   "cell_type": "code",
   "execution_count": null,
   "metadata": {},
   "outputs": [],
   "source": [
    "pick = open('model.sav','rb')\n",
    "model = pickle.load(pick)\n",
    "pick.close()"
   ]
  },
  {
   "cell_type": "markdown",
   "metadata": {},
   "source": [
    "Making prediction as well as accuracy. "
   ]
  },
  {
   "cell_type": "code",
   "execution_count": null,
   "metadata": {},
   "outputs": [],
   "source": [
    "prediction = model.predict(xtest)\n",
    "accuracy = model.score(xtest,ytest)\n"
   ]
  },
  {
   "cell_type": "markdown",
   "metadata": {},
   "source": [
    "Printing the prediction and accuracy. "
   ]
  },
  {
   "cell_type": "code",
   "execution_count": null,
   "metadata": {},
   "outputs": [],
   "source": [
    "categories = ['cat','dog']\n",
    "\n",
    "print('Accuracy: ',accuracy)\n",
    "\n",
    "print(\"Prediction: \", categories[prediction[0]])"
   ]
  },
  {
   "cell_type": "markdown",
   "metadata": {},
   "source": [
    "Final output. "
   ]
  },
  {
   "cell_type": "code",
   "execution_count": null,
   "metadata": {},
   "outputs": [],
   "source": [
    "pet1=xtest[0].reshape(50,50)\n",
    "plt.imshow(pet1,cmap='gray')\n",
    "plt.show()"
   ]
  }
 ],
 "metadata": {
  "kernelspec": {
   "display_name": "Python 3",
   "language": "python",
   "name": "python3"
  },
  "language_info": {
   "codemirror_mode": {
    "name": "ipython",
    "version": 3
   },
   "file_extension": ".py",
   "mimetype": "text/x-python",
   "name": "python",
   "nbconvert_exporter": "python",
   "pygments_lexer": "ipython3",
   "version": "3.12.3"
  }
 },
 "nbformat": 4,
 "nbformat_minor": 2
}
